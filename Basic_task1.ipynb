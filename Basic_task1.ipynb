{
  "nbformat": 4,
  "nbformat_minor": 0,
  "metadata": {
    "colab": {
      "provenance": [],
      "authorship_tag": "ABX9TyO89u5k9ExHxi3c2XnV/qox",
      "include_colab_link": true
    },
    "kernelspec": {
      "name": "python3",
      "display_name": "Python 3"
    },
    "language_info": {
      "name": "python"
    }
  },
  "cells": [
    {
      "cell_type": "markdown",
      "metadata": {
        "id": "view-in-github",
        "colab_type": "text"
      },
      "source": [
        "<a href=\"https://colab.research.google.com/github/abosalah0/Codveda-Technology/blob/main/Basic_task1.ipynb\" target=\"_parent\"><img src=\"https://colab.research.google.com/assets/colab-badge.svg\" alt=\"Open In Colab\"/></a>"
      ]
    },
    {
      "cell_type": "code",
      "execution_count": null,
      "metadata": {
        "colab": {
          "base_uri": "https://localhost:8080/"
        },
        "id": "eUfSMD29rRLi",
        "outputId": "4946c21f-7615-403c-f2d4-8fd6dcca4f67"
      },
      "outputs": [
        {
          "output_type": "stream",
          "name": "stdout",
          "text": [
            "Dataset shape: (506, 14)\n",
            "      CRIM    ZN  INDUS  CHAS    NOX     RM   AGE     DIS  RAD    TAX  \\\n",
            "0  0.00632  18.0   2.31     0  0.538  6.575  65.2  4.0900    1  296.0   \n",
            "1  0.02731   0.0   7.07     0  0.469  6.421  78.9  4.9671    2  242.0   \n",
            "2  0.02729   0.0   7.07     0  0.469  7.185  61.1  4.9671    2  242.0   \n",
            "3  0.03237   0.0   2.18     0  0.458  6.998  45.8  6.0622    3  222.0   \n",
            "4  0.06905   0.0   2.18     0  0.458  7.147  54.2  6.0622    3  222.0   \n",
            "\n",
            "   PTRATIO       B  LSTAT  MEDV  \n",
            "0     15.3  396.90   4.98  24.0  \n",
            "1     17.8  396.90   9.14  21.6  \n",
            "2     17.8  392.83   4.03  34.7  \n",
            "3     18.7  394.63   2.94  33.4  \n",
            "4     18.7  396.90   5.33  36.2  \n"
          ]
        }
      ],
      "source": [
        "# Step 1: Import necessary libraries\n",
        "import pandas as pd\n",
        "import numpy as np\n",
        "from sklearn.model_selection import train_test_split\n",
        "from sklearn.compose import ColumnTransformer\n",
        "from sklearn.preprocessing import OneHotEncoder, StandardScaler\n",
        "\n",
        "# Step 2: Load dataset correctly\n",
        "# (your file was space-delimited, so we fix that)\n",
        "col_names = [\n",
        "    \"CRIM\",\"ZN\",\"INDUS\",\"CHAS\",\"NOX\",\"RM\",\"AGE\",\"DIS\",\"RAD\",\"TAX\",\n",
        "    \"PTRATIO\",\"B\",\"LSTAT\",\"MEDV\"  # MEDV is the target (house price)\n",
        "]\n",
        "\n",
        "df = pd.read_csv(\"/content/4) house Prediction Data Set.csv\", sep=r\"\\s+\", header=None, names=col_names, engine=\"python\")\n",
        "\n",
        "print(\"Dataset shape:\", df.shape)\n",
        "print(df.head())\n"
      ]
    },
    {
      "cell_type": "code",
      "source": [
        "# Check for missing values\n",
        "print(\"\\nMissing values per column:\")\n",
        "print(df.isnull().sum())\n",
        "\n",
        "# Basic stats for numeric columns\n",
        "print(\"\\nDescriptive statistics:\")\n",
        "print(df.describe())\n"
      ],
      "metadata": {
        "colab": {
          "base_uri": "https://localhost:8080/"
        },
        "id": "Db2Dv6gK-FUG",
        "outputId": "2e1da988-7121-4179-cd36-c2c47c50f65b"
      },
      "execution_count": null,
      "outputs": [
        {
          "output_type": "stream",
          "name": "stdout",
          "text": [
            "\n",
            "Missing values per column:\n",
            "CRIM       0\n",
            "ZN         0\n",
            "INDUS      0\n",
            "CHAS       0\n",
            "NOX        0\n",
            "RM         0\n",
            "AGE        0\n",
            "DIS        0\n",
            "RAD        0\n",
            "TAX        0\n",
            "PTRATIO    0\n",
            "B          0\n",
            "LSTAT      0\n",
            "MEDV       0\n",
            "dtype: int64\n",
            "\n",
            "Descriptive statistics:\n",
            "             CRIM          ZN       INDUS        CHAS         NOX          RM  \\\n",
            "count  506.000000  506.000000  506.000000  506.000000  506.000000  506.000000   \n",
            "mean     3.613524   11.363636   11.136779    0.069170    0.554695    6.284634   \n",
            "std      8.601545   23.322453    6.860353    0.253994    0.115878    0.702617   \n",
            "min      0.006320    0.000000    0.460000    0.000000    0.385000    3.561000   \n",
            "25%      0.082045    0.000000    5.190000    0.000000    0.449000    5.885500   \n",
            "50%      0.256510    0.000000    9.690000    0.000000    0.538000    6.208500   \n",
            "75%      3.677083   12.500000   18.100000    0.000000    0.624000    6.623500   \n",
            "max     88.976200  100.000000   27.740000    1.000000    0.871000    8.780000   \n",
            "\n",
            "              AGE         DIS         RAD         TAX     PTRATIO           B  \\\n",
            "count  506.000000  506.000000  506.000000  506.000000  506.000000  506.000000   \n",
            "mean    68.574901    3.795043    9.549407  408.237154   18.455534  356.674032   \n",
            "std     28.148861    2.105710    8.707259  168.537116    2.164946   91.294864   \n",
            "min      2.900000    1.129600    1.000000  187.000000   12.600000    0.320000   \n",
            "25%     45.025000    2.100175    4.000000  279.000000   17.400000  375.377500   \n",
            "50%     77.500000    3.207450    5.000000  330.000000   19.050000  391.440000   \n",
            "75%     94.075000    5.188425   24.000000  666.000000   20.200000  396.225000   \n",
            "max    100.000000   12.126500   24.000000  711.000000   22.000000  396.900000   \n",
            "\n",
            "            LSTAT        MEDV  \n",
            "count  506.000000  506.000000  \n",
            "mean    12.653063   22.532806  \n",
            "std      7.141062    9.197104  \n",
            "min      1.730000    5.000000  \n",
            "25%      6.950000   17.025000  \n",
            "50%     11.360000   21.200000  \n",
            "75%     16.955000   25.000000  \n",
            "max     37.970000   50.000000  \n"
          ]
        }
      ]
    },
    {
      "cell_type": "code",
      "source": [
        "# Target = MEDV (median house value)\n",
        "X = df.drop(columns=[\"MEDV\"])\n",
        "y = df[\"MEDV\"]\n",
        "\n",
        "# Split into train/test (80/20)\n",
        "X_train, X_test, y_train, y_test = train_test_split(X, y, test_size=0.2, random_state=42)\n",
        "\n",
        "print(\"Train shape:\", X_train.shape, \"Test shape:\", X_test.shape)\n"
      ],
      "metadata": {
        "colab": {
          "base_uri": "https://localhost:8080/"
        },
        "id": "Ux9cHix5-He5",
        "outputId": "5663bb5c-bb2a-4e5b-ff13-f1d153c517da"
      },
      "execution_count": null,
      "outputs": [
        {
          "output_type": "stream",
          "name": "stdout",
          "text": [
            "Train shape: (404, 13) Test shape: (102, 13)\n"
          ]
        }
      ]
    },
    {
      "cell_type": "code",
      "source": [
        "# CHAS (river adjacency) and RAD (highway access index) are categorical\n",
        "categorical_cols = [\"CHAS\", \"RAD\"]\n",
        "numeric_cols = [col for col in X.columns if col not in categorical_cols]\n",
        "\n",
        "print(\"Categorical:\", categorical_cols)\n",
        "print(\"Numeric:\", numeric_cols)\n"
      ],
      "metadata": {
        "colab": {
          "base_uri": "https://localhost:8080/"
        },
        "id": "b_JYSkuW-QvL",
        "outputId": "12354682-1167-400d-fe4f-a0fc7cfc69ab"
      },
      "execution_count": null,
      "outputs": [
        {
          "output_type": "stream",
          "name": "stdout",
          "text": [
            "Categorical: ['CHAS', 'RAD']\n",
            "Numeric: ['CRIM', 'ZN', 'INDUS', 'NOX', 'RM', 'AGE', 'DIS', 'TAX', 'PTRATIO', 'B', 'LSTAT']\n"
          ]
        }
      ]
    },
    {
      "cell_type": "code",
      "source": [
        "# Step 5: Preprocessing pipeline (fixed for scikit-learn version issues)\n",
        "\n",
        "# First, check your sklearn version\n",
        "import sklearn\n",
        "print(\"scikit-learn version:\", sklearn.__version__)\n",
        "\n",
        "# Use correct parameter depending on version\n",
        "try:\n",
        "    preprocessor = ColumnTransformer(\n",
        "        transformers=[\n",
        "            (\"cat\", OneHotEncoder(handle_unknown=\"ignore\", sparse=False), categorical_cols),\n",
        "            (\"num\", StandardScaler(), numeric_cols),\n",
        "        ]\n",
        "    )\n",
        "except:\n",
        "    preprocessor = ColumnTransformer(\n",
        "        transformers=[\n",
        "            (\"cat\", OneHotEncoder(handle_unknown=\"ignore\"), categorical_cols),\n",
        "            (\"num\", StandardScaler(), numeric_cols),\n",
        "        ]\n",
        "    )\n",
        "\n",
        "# Fit on training data\n",
        "X_train_proc = preprocessor.fit_transform(X_train)\n",
        "X_test_proc = preprocessor.transform(X_test)\n",
        "\n",
        "print(\"Processed train shape:\", X_train_proc.shape)\n",
        "print(\"Processed test shape:\", X_test_proc.shape)\n"
      ],
      "metadata": {
        "colab": {
          "base_uri": "https://localhost:8080/"
        },
        "id": "LxrC_IVG-SOR",
        "outputId": "40bee0b8-fcbd-4bb1-cb68-e8932854f91e"
      },
      "execution_count": null,
      "outputs": [
        {
          "output_type": "stream",
          "name": "stdout",
          "text": [
            "scikit-learn version: 1.6.1\n",
            "Processed train shape: (404, 22)\n",
            "Processed test shape: (102, 22)\n"
          ]
        }
      ]
    },
    {
      "cell_type": "code",
      "source": [
        "# Get feature names after preprocessing\n",
        "ohe = preprocessor.named_transformers_[\"cat\"]\n",
        "ohe_features = ohe.get_feature_names_out(categorical_cols)\n",
        "all_features = np.concatenate([ohe_features, numeric_cols])\n",
        "\n",
        "print(\"\\nFeature names after preprocessing:\")\n",
        "print(all_features)\n"
      ],
      "metadata": {
        "colab": {
          "base_uri": "https://localhost:8080/"
        },
        "id": "AieR71vz-qJK",
        "outputId": "931ccada-de21-4b7d-c793-834ab84d61d4"
      },
      "execution_count": null,
      "outputs": [
        {
          "output_type": "stream",
          "name": "stdout",
          "text": [
            "\n",
            "Feature names after preprocessing:\n",
            "['CHAS_0' 'CHAS_1' 'RAD_1' 'RAD_2' 'RAD_3' 'RAD_4' 'RAD_5' 'RAD_6' 'RAD_7'\n",
            " 'RAD_8' 'RAD_24' 'CRIM' 'ZN' 'INDUS' 'NOX' 'RM' 'AGE' 'DIS' 'TAX'\n",
            " 'PTRATIO' 'B' 'LSTAT']\n"
          ]
        }
      ]
    },
    {
      "cell_type": "markdown",
      "source": [
        "📝 Task 1: Data Preprocessing — Summary\n",
        "\n",
        "In this task, we prepared the House Prediction dataset for machine learning.\n",
        "\n",
        "Steps we performed:\n",
        "\n",
        "\n",
        "\n",
        "1. Loaded & fixed parsing\n",
        "  - The dataset was space-delimited, so we reloaded it properly and assigned column names.\n",
        "\n",
        " - Final dataset shape: 506 rows × 14 columns.\n",
        "\n",
        "2.   Data Audit\n",
        "   - Checked for missing values → none found.\n",
        "  - Inspected summary statistics of numerical columns.\n",
        "\n",
        "\n",
        "\n",
        "3.  Feature/Target split\n",
        "  - Features: 13 columns (crime rate, rooms, tax, etc.).\n",
        "  - target: MEDV (Median value of owner-occupied homes, in $1000s)\n",
        "\n",
        "4.   Categorical vs. Numeric variables\n",
        "  - Categorical: CHAS (river adjacency), RAD (highway access index).\n",
        "  - Numeric: all other features (e.g., CRIM, RM, TAX, LSTAT).\n",
        "\n",
        "5.   Preprocessing\n",
        "- Applied One-Hot Encoding to categorical variables (CHAS, RAD).\n",
        "\n",
        "- Applied Standard Scaling to numeric variables.\n",
        "\n",
        "- Split data into training (80%) and testing (20%) sets.\n",
        "\n",
        "\n",
        "6.   Final Processed Dataset\n",
        "- Original 13 features expanded into 22 features after preprocessing.\n",
        "\n",
        "- Training shape: (404, 22)\n",
        "\n",
        "- Testing shape: (102, 22)\n",
        "\n",
        "\n",
        "\n",
        "Key Findings:\n",
        "\n",
        "No missing values were present, so no imputation was needed.\n",
        "\n",
        "The dataset required careful preprocessing: categorical expansion + numeric scaling.\n",
        "\n",
        "The final feature space is well-structured and ready for machine learning models.bold text"
      ],
      "metadata": {
        "id": "9Yt5cOMu_ZLX"
      }
    },
    {
      "cell_type": "code",
      "source": [],
      "metadata": {
        "id": "KpOEHGkNBGdg"
      },
      "execution_count": null,
      "outputs": []
    }
  ]
}