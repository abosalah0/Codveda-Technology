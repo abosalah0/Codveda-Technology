{
  "nbformat": 4,
  "nbformat_minor": 0,
  "metadata": {
    "colab": {
      "provenance": [],
      "authorship_tag": "ABX9TyMKFzsWrhPIIOmgQ4oEwwUs",
      "include_colab_link": true
    },
    "kernelspec": {
      "name": "python3",
      "display_name": "Python 3"
    },
    "language_info": {
      "name": "python"
    }
  },
  "cells": [
    {
      "cell_type": "markdown",
      "metadata": {
        "id": "view-in-github",
        "colab_type": "text"
      },
      "source": [
        "<a href=\"https://colab.research.google.com/github/abosalah0/Codveda-Technology/blob/main/Advanced_task2.ipynb\" target=\"_parent\"><img src=\"https://colab.research.google.com/assets/colab-badge.svg\" alt=\"Open In Colab\"/></a>"
      ]
    },
    {
      "cell_type": "code",
      "execution_count": 2,
      "metadata": {
        "id": "_1zj6IBFF09b"
      },
      "outputs": [],
      "source": [
        "# Core\n",
        "import pandas as pd\n",
        "import numpy as np\n",
        "\n",
        "# Modeling & preprocessing\n",
        "from sklearn.model_selection import StratifiedKFold, cross_val_score\n",
        "from sklearn.compose import ColumnTransformer\n",
        "from sklearn.preprocessing import OneHotEncoder, StandardScaler\n",
        "from sklearn.pipeline import Pipeline\n",
        "from sklearn.svm import SVC\n",
        "\n",
        "# Metrics & plots\n",
        "from sklearn.metrics import accuracy_score, precision_score, recall_score, roc_auc_score, roc_curve, classification_report, confusion_matrix\n",
        "import matplotlib.pyplot as plt\n",
        "\n",
        "# Reproducibility\n",
        "RANDOM_STATE = 42\n",
        "\n",
        "def find_target_column(columns):\n",
        "    # Find the column that looks like \"churn\", case-insensitive\n",
        "    for c in columns:\n",
        "        if \"churn\" in c.lower():\n",
        "            return c\n",
        "    raise ValueError(\"Could not auto-detect a 'churn' column. Please check the CSV headers.\")\n",
        "\n",
        "def to_binary_series(y):\n",
        "    \"\"\"\n",
        "    Convert common churn labels to binary {0,1}.\n",
        "    Accepts True/False, Yes/No, 'True.' style, 'yes','no', '1','0'.\n",
        "    \"\"\"\n",
        "    return (\n",
        "        pd.Series(y)\n",
        "        .astype(str)\n",
        "        .str.strip()\n",
        "        .str.lower()\n",
        "        .map({\n",
        "            'yes': 1, 'true': 1, 'true.': 1, '1': 1, 'y': 1, 't': 1,\n",
        "            'no': 0, 'false': 0, 'false.': 0, '0': 0, 'n': 0, 'f': 0\n",
        "        })\n",
        "        .fillna(pd.Series(y).astype(int, errors='ignore')) # fallback if already 0/1\n",
        "        .astype(int)\n",
        "    )\n"
      ]
    },
    {
      "cell_type": "code",
      "source": [
        "# Adjust the paths if your filenames differ in your Colab\n",
        "train_path = \"churn-bigml-80.csv\"  # training (80%)\n",
        "test_path  = \"churn-bigml-20.csv\"  # holdout test (20%)\n",
        "\n",
        "train_df = pd.read_csv(train_path)\n",
        "test_df  = pd.read_csv(test_path)\n",
        "\n",
        "print(\"Train shape:\", train_df.shape)\n",
        "print(\"Test shape :\", test_df.shape)\n",
        "\n",
        "# Auto-detect target column\n",
        "target_col = find_target_column(train_df.columns)\n",
        "print(\"Detected target column:\", target_col)\n",
        "\n",
        "# Separate features/target\n",
        "X_train_raw = train_df.drop(columns=[target_col])\n",
        "y_train_raw = to_binary_series(train_df[target_col])\n",
        "\n",
        "X_test_raw  = test_df.drop(columns=[target_col])\n",
        "y_test_raw  = to_binary_series(test_df[target_col])\n",
        "\n",
        "print(\"Positive rate (train):\", y_train_raw.mean().round(3))\n",
        "print(\"Positive rate (test) :\", y_test_raw.mean().round(3))\n"
      ],
      "metadata": {
        "colab": {
          "base_uri": "https://localhost:8080/"
        },
        "id": "O96VlwpZGKD9",
        "outputId": "2148c645-a35c-492b-82d3-3c6b2325b41e"
      },
      "execution_count": 3,
      "outputs": [
        {
          "output_type": "stream",
          "name": "stdout",
          "text": [
            "Train shape: (2666, 20)\n",
            "Test shape : (667, 20)\n",
            "Detected target column: Churn\n",
            "Positive rate (train): 0.146\n",
            "Positive rate (test) : 0.142\n"
          ]
        }
      ]
    },
    {
      "cell_type": "code",
      "source": [
        "# Identify dtypes\n",
        "cat_cols = X_train_raw.select_dtypes(include=['object', 'category']).columns.tolist()\n",
        "num_cols = X_train_raw.select_dtypes(include=[np.number]).columns.tolist()\n",
        "\n",
        "print(\"Categorical columns:\", cat_cols)\n",
        "print(\"Numeric columns    :\", num_cols)\n",
        "\n",
        "# Column transformer\n",
        "# NOTE: OneHotEncoder param compatibility across sklearn versions handled by try/except.\n",
        "try:\n",
        "    ohe = OneHotEncoder(handle_unknown=\"ignore\", sparse_output=False)\n",
        "except TypeError:\n",
        "    ohe = OneHotEncoder(handle_unknown=\"ignore\")\n",
        "\n",
        "preprocess = ColumnTransformer(\n",
        "    transformers=[\n",
        "        (\"cat\", ohe, cat_cols),\n",
        "        (\"num\", StandardScaler(), num_cols)\n",
        "    ],\n",
        "    remainder=\"drop\"\n",
        ")\n"
      ],
      "metadata": {
        "colab": {
          "base_uri": "https://localhost:8080/"
        },
        "id": "3P0t8D4iGM3E",
        "outputId": "f3c95c22-5727-47b9-df52-46e4ab83bd98"
      },
      "execution_count": 4,
      "outputs": [
        {
          "output_type": "stream",
          "name": "stdout",
          "text": [
            "Categorical columns: ['State', 'International plan', 'Voice mail plan']\n",
            "Numeric columns    : ['Account length', 'Area code', 'Number vmail messages', 'Total day minutes', 'Total day calls', 'Total day charge', 'Total eve minutes', 'Total eve calls', 'Total eve charge', 'Total night minutes', 'Total night calls', 'Total night charge', 'Total intl minutes', 'Total intl calls', 'Total intl charge', 'Customer service calls']\n"
          ]
        }
      ]
    },
    {
      "cell_type": "code",
      "source": [
        "# Pipelines\n",
        "svm_linear = Pipeline(steps=[\n",
        "    (\"prep\", preprocess),\n",
        "    (\"clf\", SVC(kernel=\"linear\", probability=True, random_state=RANDOM_STATE))\n",
        "])\n",
        "\n",
        "svm_rbf = Pipeline(steps=[\n",
        "    (\"prep\", preprocess),\n",
        "    (\"clf\", SVC(kernel=\"rbf\", C=1.0, gamma=\"scale\", probability=True, random_state=RANDOM_STATE))\n",
        "])\n",
        "\n",
        "# Cross-validate on train set\n",
        "cv = StratifiedKFold(n_splits=5, shuffle=True, random_state=RANDOM_STATE)\n",
        "\n",
        "def cv_report(model, X, y, name):\n",
        "    acc = cross_val_score(model, X, y, cv=cv, scoring=\"accuracy\")\n",
        "    prc = cross_val_score(model, X, y, cv=cv, scoring=\"precision\")\n",
        "    rcl = cross_val_score(model, X, y, cv=cv, scoring=\"recall\")\n",
        "    auc = cross_val_score(model, X, y, cv=cv, scoring=\"roc_auc\")\n",
        "    print(f\"\\n{name} — 5-fold CV:\")\n",
        "    print(f\"Accuracy: {acc.mean():.3f} ± {acc.std():.3f}\")\n",
        "    print(f\"Precision: {prc.mean():.3f} ± {prc.std():.3f}\")\n",
        "    print(f\"Recall: {rcl.mean():.3f} ± {rcl.std():.3f}\")\n",
        "    print(f\"AUC: {auc.mean():.3f} ± {auc.std():.3f}\")\n",
        "\n",
        "cv_report(svm_linear, X_train_raw, y_train_raw, \"SVM (Linear kernel)\")\n",
        "cv_report(svm_rbf,    X_train_raw, y_train_raw, \"SVM (RBF kernel)\")\n"
      ],
      "metadata": {
        "colab": {
          "base_uri": "https://localhost:8080/"
        },
        "id": "fxj8o6W4GPme",
        "outputId": "83092bb3-8bb4-4ebc-ea83-a7dc99b8b0cc"
      },
      "execution_count": 5,
      "outputs": [
        {
          "output_type": "stream",
          "name": "stderr",
          "text": [
            "/usr/local/lib/python3.12/dist-packages/sklearn/metrics/_classification.py:1565: UndefinedMetricWarning: Precision is ill-defined and being set to 0.0 due to no predicted samples. Use `zero_division` parameter to control this behavior.\n",
            "  _warn_prf(average, modifier, f\"{metric.capitalize()} is\", len(result))\n",
            "/usr/local/lib/python3.12/dist-packages/sklearn/metrics/_classification.py:1565: UndefinedMetricWarning: Precision is ill-defined and being set to 0.0 due to no predicted samples. Use `zero_division` parameter to control this behavior.\n",
            "  _warn_prf(average, modifier, f\"{metric.capitalize()} is\", len(result))\n",
            "/usr/local/lib/python3.12/dist-packages/sklearn/metrics/_classification.py:1565: UndefinedMetricWarning: Precision is ill-defined and being set to 0.0 due to no predicted samples. Use `zero_division` parameter to control this behavior.\n",
            "  _warn_prf(average, modifier, f\"{metric.capitalize()} is\", len(result))\n",
            "/usr/local/lib/python3.12/dist-packages/sklearn/metrics/_classification.py:1565: UndefinedMetricWarning: Precision is ill-defined and being set to 0.0 due to no predicted samples. Use `zero_division` parameter to control this behavior.\n",
            "  _warn_prf(average, modifier, f\"{metric.capitalize()} is\", len(result))\n"
          ]
        },
        {
          "output_type": "stream",
          "name": "stdout",
          "text": [
            "\n",
            "SVM (Linear kernel) — 5-fold CV:\n",
            "Accuracy: 0.855 ± 0.001\n",
            "Precision: 0.150 ± 0.300\n",
            "Recall: 0.008 ± 0.015\n",
            "AUC: 0.781 ± 0.009\n",
            "\n",
            "SVM (RBF kernel) — 5-fold CV:\n",
            "Accuracy: 0.904 ± 0.007\n",
            "Precision: 0.856 ± 0.061\n",
            "Recall: 0.415 ± 0.034\n",
            "AUC: 0.894 ± 0.012\n"
          ]
        }
      ]
    },
    {
      "cell_type": "code",
      "source": [
        "# Fit both on full training data\n",
        "svm_linear.fit(X_train_raw, y_train_raw)\n",
        "svm_rbf.fit(X_train_raw, y_train_raw)\n",
        "\n",
        "# Predict on test\n",
        "for name, model in [(\"Linear\", svm_linear), (\"RBF\", svm_rbf)]:\n",
        "    y_prob = model.predict_proba(X_test_raw)[:, 1]\n",
        "    y_pred = (y_prob >= 0.5).astype(int)\n",
        "\n",
        "    acc = accuracy_score(y_test_raw, y_pred)\n",
        "    prc = precision_score(y_test_raw, y_pred)\n",
        "    rcl = recall_score(y_test_raw, y_pred)\n",
        "    auc = roc_auc_score(y_test_raw, y_prob)\n",
        "\n",
        "    print(f\"\\n=== Test Performance: SVM ({name}) ===\")\n",
        "    print(f\"Accuracy : {acc:.3f}\")\n",
        "    print(f\"Precision: {prc:.3f}\")\n",
        "    print(f\"Recall   : {rcl:.3f}\")\n",
        "    print(f\"AUC      : {auc:.3f}\")\n",
        "    print(\"\\nClassification report:\")\n",
        "    print(classification_report(y_test_raw, y_pred, digits=3))\n",
        "\n",
        "    print(\"Confusion matrix:\")\n",
        "    print(confusion_matrix(y_test_raw, y_pred))\n"
      ],
      "metadata": {
        "colab": {
          "base_uri": "https://localhost:8080/"
        },
        "id": "bj_aw5x4GTfd",
        "outputId": "a4f85777-c4eb-4399-916b-e88dac9ed801"
      },
      "execution_count": 6,
      "outputs": [
        {
          "output_type": "stream",
          "name": "stdout",
          "text": [
            "\n",
            "=== Test Performance: SVM (Linear) ===\n",
            "Accuracy : 0.858\n",
            "Precision: 0.000\n",
            "Recall   : 0.000\n",
            "AUC      : 0.769\n",
            "\n",
            "Classification report:\n",
            "              precision    recall  f1-score   support\n",
            "\n",
            "           0      0.858     1.000     0.923       572\n",
            "           1      0.000     0.000     0.000        95\n",
            "\n",
            "    accuracy                          0.858       667\n",
            "   macro avg      0.429     0.500     0.462       667\n",
            "weighted avg      0.735     0.858     0.792       667\n",
            "\n",
            "Confusion matrix:\n",
            "[[572   0]\n",
            " [ 95   0]]\n",
            "\n",
            "=== Test Performance: SVM (RBF) ===\n",
            "Accuracy : 0.925\n",
            "Precision: 0.817\n",
            "Recall   : 0.611\n",
            "AUC      : 0.930\n",
            "\n",
            "Classification report:\n",
            "              precision    recall  f1-score   support\n",
            "\n",
            "           0      0.938     0.977     0.957       572\n",
            "           1      0.817     0.611     0.699        95\n",
            "\n",
            "    accuracy                          0.925       667\n",
            "   macro avg      0.877     0.794     0.828       667\n",
            "weighted avg      0.921     0.925     0.920       667\n",
            "\n",
            "Confusion matrix:\n",
            "[[559  13]\n",
            " [ 37  58]]\n"
          ]
        },
        {
          "output_type": "stream",
          "name": "stderr",
          "text": [
            "/usr/local/lib/python3.12/dist-packages/sklearn/metrics/_classification.py:1565: UndefinedMetricWarning: Precision is ill-defined and being set to 0.0 due to no predicted samples. Use `zero_division` parameter to control this behavior.\n",
            "  _warn_prf(average, modifier, f\"{metric.capitalize()} is\", len(result))\n",
            "/usr/local/lib/python3.12/dist-packages/sklearn/metrics/_classification.py:1565: UndefinedMetricWarning: Precision is ill-defined and being set to 0.0 in labels with no predicted samples. Use `zero_division` parameter to control this behavior.\n",
            "  _warn_prf(average, modifier, f\"{metric.capitalize()} is\", len(result))\n",
            "/usr/local/lib/python3.12/dist-packages/sklearn/metrics/_classification.py:1565: UndefinedMetricWarning: Precision is ill-defined and being set to 0.0 in labels with no predicted samples. Use `zero_division` parameter to control this behavior.\n",
            "  _warn_prf(average, modifier, f\"{metric.capitalize()} is\", len(result))\n",
            "/usr/local/lib/python3.12/dist-packages/sklearn/metrics/_classification.py:1565: UndefinedMetricWarning: Precision is ill-defined and being set to 0.0 in labels with no predicted samples. Use `zero_division` parameter to control this behavior.\n",
            "  _warn_prf(average, modifier, f\"{metric.capitalize()} is\", len(result))\n"
          ]
        }
      ]
    },
    {
      "cell_type": "code",
      "source": [
        "# Choose the better model by AUC on test\n",
        "def test_metrics(model):\n",
        "    y_prob = model.predict_proba(X_test_raw)[:, 1]\n",
        "    y_pred = (y_prob >= 0.5).astype(int)\n",
        "    return {\n",
        "        \"y_prob\": y_prob, \"y_pred\": y_pred,\n",
        "        \"acc\": accuracy_score(y_test_raw, y_pred),\n",
        "        \"prc\": precision_score(y_test_raw, y_pred),\n",
        "        \"rcl\": recall_score(y_test_raw, y_pred),\n",
        "        \"auc\": roc_auc_score(y_test_raw, y_prob)\n",
        "    }\n",
        "\n",
        "m_lin = test_metrics(svm_linear)\n",
        "m_rbf = test_metrics(svm_rbf)\n",
        "\n",
        "best_name = \"RBF\" if m_rbf[\"auc\"] >= m_lin[\"auc\"] else \"Linear\"\n",
        "best_model = svm_rbf if best_name == \"RBF\" else svm_linear\n",
        "best = m_rbf if best_name == \"RBF\" else m_lin\n",
        "\n",
        "print(f\"\\nBest kernel by AUC on test: {best_name} (AUC={best['auc']:.3f})\")\n",
        "\n",
        "# Plot ROC curve for both\n",
        "plt.figure(figsize=(7,5))\n",
        "for name, m in [(\"Linear\", m_lin), (\"RBF\", m_rbf)]:\n",
        "    fpr, tpr, _ = roc_curve(y_test_raw, m[\"y_prob\"])\n",
        "    plt.plot(fpr, tpr, label=f\"{name} (AUC={m['auc']:.3f})\")\n",
        "\n",
        "plt.plot([0,1], [0,1], linestyle=\"--\")\n",
        "plt.xlabel(\"False Positive Rate\")\n",
        "plt.ylabel(\"True Positive Rate\")\n",
        "plt.title(\"ROC Curve — SVM (Churn)\")\n",
        "plt.legend()\n",
        "plt.show()\n"
      ],
      "metadata": {
        "colab": {
          "base_uri": "https://localhost:8080/",
          "height": 576
        },
        "id": "jooOsCXfGXhi",
        "outputId": "91669acd-8033-4ad3-de6d-0c915fb98862"
      },
      "execution_count": 7,
      "outputs": [
        {
          "output_type": "stream",
          "name": "stderr",
          "text": [
            "/usr/local/lib/python3.12/dist-packages/sklearn/metrics/_classification.py:1565: UndefinedMetricWarning: Precision is ill-defined and being set to 0.0 due to no predicted samples. Use `zero_division` parameter to control this behavior.\n",
            "  _warn_prf(average, modifier, f\"{metric.capitalize()} is\", len(result))\n"
          ]
        },
        {
          "output_type": "stream",
          "name": "stdout",
          "text": [
            "\n",
            "Best kernel by AUC on test: RBF (AUC=0.930)\n"
          ]
        },
        {
          "output_type": "display_data",
          "data": {
            "text/plain": [
              "<Figure size 700x500 with 1 Axes>"
            ],
            "image/png": "[encoded data removed]"
          },
          "metadata": {}
        }
      ]
    },
    {
      "cell_type": "markdown",
      "source": [
        "Goal: Train an SVM model for churn prediction, compare Linear vs RBF kernels, and evaluate with Accuracy, Precision, Recall, AUC, and ROC curves.\n",
        "\n",
        "✅ Steps Performed\n",
        "\n",
        "Loaded training set (churn-bigml-80.csv) and test set (churn-bigml-20.csv).\n",
        "\n",
        "Identified target column Churn and converted labels to binary (1 = churn, 0 = no churn).\n",
        "\n",
        "Preprocessed data:\n",
        "\n",
        "One-Hot Encoding for categorical (State, International plan, Voice mail plan).\n",
        "\n",
        "Standard Scaling for numerical features (call minutes, charges, service calls, etc.).\n",
        "\n",
        "Built two pipelines:\n",
        "\n",
        "SVM with linear kernel\n",
        "\n",
        "SVM with RBF kernel\n",
        "\n",
        "Evaluated both with 5-fold CV on the training set and final evaluation on the test set.\n",
        "\n",
        "Plotted ROC curve comparing linear vs RBF.\n",
        "\n",
        "📊 Results\n",
        "\n",
        "Cross-validation (training set):\n",
        "\n",
        "Linear SVM: Accuracy ≈ 0.855, Precision ≈ 0.150, Recall ≈ 0.008, AUC ≈ 0.781\n",
        "\n",
        "RBF SVM: Accuracy ≈ 0.904, Precision ≈ 0.856, Recall ≈ 0.415, AUC ≈ 0.894\n",
        "\n",
        "Test set:\n",
        "\n",
        "Linear SVM:\n",
        "\n",
        "Accuracy = 0.858\n",
        "\n",
        "Precision = 0.000\n",
        "\n",
        "Recall = 0.000\n",
        "\n",
        "AUC = 0.769\n",
        "\n",
        "Confusion matrix: predicted all customers as non-churn (failed to capture positives).\n",
        "\n",
        "RBF SVM:\n",
        "\n",
        "Accuracy = 0.925\n",
        "\n",
        "Precision = 0.817\n",
        "\n",
        "Recall = 0.611\n",
        "\n",
        "AUC = 0.930\n",
        "\n",
        "Confusion matrix: correctly identified 58 churners, with some false negatives (37).\n",
        "\n",
        "🔎 Key Insights\n",
        "\n",
        "Linear SVM failed → it predicted no churn cases at all (zero recall).\n",
        "\n",
        "RBF SVM performed strongly → excellent balance between accuracy (92.5%), precision (81.7%), and recall (61.1%).\n",
        "\n",
        "AUC (0.930) shows the RBF model discriminates well between churn and non-churn customers.\n",
        "\n",
        "The ROC curve confirmed RBF’s superiority over linear.\n",
        "\n",
        "✅ Conclusion\n",
        "\n",
        "An SVM with RBF kernel is highly effective for churn prediction on this dataset, while a linear kernel is inadequate. The RBF model provides both high overall accuracy and meaningful churn detection, making it suitable for business applications."
      ],
      "metadata": {
        "id": "ubozCbBqH_gV"
      }
    }
  ]
}